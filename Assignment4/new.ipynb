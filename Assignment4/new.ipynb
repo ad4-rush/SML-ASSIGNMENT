{
 "cells": [
  {
   "cell_type": "code",
   "execution_count": 2,
   "metadata": {},
   "outputs": [],
   "source": [
    "import numpy as np"
   ]
  },
  {
   "cell_type": "code",
   "execution_count": 3,
   "metadata": {},
   "outputs": [
    {
     "name": "stdout",
     "output_type": "stream",
     "text": [
      "5923\n",
      "6742\n",
      "(10665,)\n",
      "(10665, 28, 28)\n"
     ]
    }
   ],
   "source": [
    "with np.load(\"C:\\Shared_archcraft\\SML\\Assignment4\\mnist.npz\") as data:\n",
    "    x_train, y_train = data['x_train'], data['y_train']\n",
    "    x_test, y_test = data['x_test'], data['y_test']\n",
    "\n",
    "train_mask = np.isin(y_train, [0])\n",
    "x_train_0 = x_train[train_mask]\n",
    "y_train_0 = [-1]*len(x_train_0)\n",
    "\n",
    "train_mask = np.isin(y_train, [1])\n",
    "x_train_1 = x_train[train_mask]\n",
    "y_train_1 = y_train[train_mask]\n",
    "\n",
    "train_mask = np.isin(y_train, [0, 1])\n",
    "x_train_01 = x_train[train_mask]\n",
    "y_train_01 = y_train[train_mask]\n",
    "\n",
    "print(len(y_train_0))\n",
    "print(len(y_train_1))\n",
    "\n",
    "\n",
    "x_test_1 = x_train_1[:1000]\n",
    "y_test_1 = y_train_1[:1000]\n",
    "x_test_0 = x_train_0[:1000]\n",
    "y_test_0 = y_train_0[:1000]\n",
    "\n",
    "x_train_0 = x_train_0[1000:]\n",
    "y_train_0 = y_train_0[1000:]\n",
    "x_train_1 = x_train_1[1000:]\n",
    "y_train_1 = y_train_1[1000:]\n",
    "\n",
    "x_real_train = np.concatenate([x_train_0, x_train_1], axis=0)\n",
    "y_real_train = np.concatenate([y_train_0, y_train_1], axis=0)\n",
    "x_real_test = np.concatenate([x_test_0, x_test_1], axis=0)\n",
    "y_real_test = np.concatenate([y_test_0, y_test_1], axis=0)\n",
    "\n",
    "# Reshape x_real_train\n",
    "# x_real_train = x_real_train.reshape(-1, 28, 28)\n",
    "print(y_real_train.shape)\n",
    "print(x_real_train.shape)\n",
    "\n"
   ]
  }
 ],
 "metadata": {
  "kernelspec": {
   "display_name": "Python 3",
   "language": "python",
   "name": "python3"
  },
  "language_info": {
   "codemirror_mode": {
    "name": "ipython",
    "version": 3
   },
   "file_extension": ".py",
   "mimetype": "text/x-python",
   "name": "python",
   "nbconvert_exporter": "python",
   "pygments_lexer": "ipython3",
   "version": "3.9.6"
  }
 },
 "nbformat": 4,
 "nbformat_minor": 2
}
